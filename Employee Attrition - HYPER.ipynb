{
 "cells": [
  {
   "cell_type": "markdown",
   "metadata": {},
   "source": [
    "# HR EMPLOYEE ATTRITION - HYPERPARAMETER TUNING\n",
    "Data taken from : https://www.kaggle.com/pavansubhasht/ibm-hr-analytics-attrition-dataset\n",
    "\n",
    "In this case study, a HR dataset was sourced from IBM HR Analytics Employee Attrition & Performance which contains employee data for 1,470 employees with various information about the employees. In this section we will try to find the best hyperparameter to best tune the respected models.\n",
    "\n",
    "As stated on the IBM website \"This is a fictional data set created by IBM data scientists\". Its main purpose was to demonstrate the IBM Watson Analytics tool for employee attrition."
   ]
  },
  {
   "cell_type": "markdown",
   "metadata": {},
   "source": [
    "## IMPORT LIBRARIES"
   ]
  },
  {
   "cell_type": "code",
   "execution_count": 8,
   "metadata": {},
   "outputs": [],
   "source": [
    "import pandas as pd\n",
    "import numpy as np\n",
    "import seaborn as sns\n",
    "import matplotlib.pyplot as plt\n",
    "\n",
    "from sklearn.model_selection import train_test_split\n",
    "from sklearn.preprocessing import LabelEncoder\n",
    "\n",
    "from sklearn import tree\n",
    "from sklearn.ensemble import ExtraTreesClassifier, RandomForestClassifier\n",
    "from xgboost import XGBClassifier\n",
    "\n",
    "from sklearn.metrics import confusion_matrix, classification_report, recall_score\n",
    "from sklearn.model_selection import RandomizedSearchCV\n",
    "\n",
    "import warnings\n",
    "warnings.filterwarnings('ignore')\n",
    "warnings.filterwarnings(action='ignore', category=FutureWarning)"
   ]
  },
  {
   "cell_type": "markdown",
   "metadata": {},
   "source": [
    "## OVERVIEW"
   ]
  },
  {
   "cell_type": "code",
   "execution_count": 4,
   "metadata": {},
   "outputs": [],
   "source": [
    "df = pd.read_csv('attrition_HP.csv')"
   ]
  },
  {
   "cell_type": "code",
   "execution_count": 5,
   "metadata": {},
   "outputs": [
    {
     "data": {
      "text/html": [
       "<div>\n",
       "<style scoped>\n",
       "    .dataframe tbody tr th:only-of-type {\n",
       "        vertical-align: middle;\n",
       "    }\n",
       "\n",
       "    .dataframe tbody tr th {\n",
       "        vertical-align: top;\n",
       "    }\n",
       "\n",
       "    .dataframe thead th {\n",
       "        text-align: right;\n",
       "    }\n",
       "</style>\n",
       "<table border=\"1\" class=\"dataframe\">\n",
       "  <thead>\n",
       "    <tr style=\"text-align: right;\">\n",
       "      <th></th>\n",
       "      <th>OverTime_Yes</th>\n",
       "      <th>Age</th>\n",
       "      <th>TotalWorkingYears</th>\n",
       "      <th>JobLevel</th>\n",
       "      <th>MonthlyIncome</th>\n",
       "      <th>DistanceFromHome</th>\n",
       "      <th>YearsAtCompany</th>\n",
       "      <th>WorkLifeBalance</th>\n",
       "      <th>YearsInCurrentRole</th>\n",
       "      <th>NumCompaniesWorked</th>\n",
       "      <th>Attrition</th>\n",
       "    </tr>\n",
       "  </thead>\n",
       "  <tbody>\n",
       "    <tr>\n",
       "      <th>0</th>\n",
       "      <td>1</td>\n",
       "      <td>41</td>\n",
       "      <td>8</td>\n",
       "      <td>2</td>\n",
       "      <td>5993</td>\n",
       "      <td>1</td>\n",
       "      <td>6</td>\n",
       "      <td>0</td>\n",
       "      <td>4</td>\n",
       "      <td>8</td>\n",
       "      <td>1</td>\n",
       "    </tr>\n",
       "    <tr>\n",
       "      <th>1</th>\n",
       "      <td>0</td>\n",
       "      <td>49</td>\n",
       "      <td>10</td>\n",
       "      <td>2</td>\n",
       "      <td>5130</td>\n",
       "      <td>8</td>\n",
       "      <td>10</td>\n",
       "      <td>2</td>\n",
       "      <td>7</td>\n",
       "      <td>1</td>\n",
       "      <td>0</td>\n",
       "    </tr>\n",
       "    <tr>\n",
       "      <th>2</th>\n",
       "      <td>1</td>\n",
       "      <td>37</td>\n",
       "      <td>7</td>\n",
       "      <td>4</td>\n",
       "      <td>2090</td>\n",
       "      <td>2</td>\n",
       "      <td>0</td>\n",
       "      <td>2</td>\n",
       "      <td>0</td>\n",
       "      <td>6</td>\n",
       "      <td>1</td>\n",
       "    </tr>\n",
       "    <tr>\n",
       "      <th>3</th>\n",
       "      <td>1</td>\n",
       "      <td>33</td>\n",
       "      <td>8</td>\n",
       "      <td>4</td>\n",
       "      <td>2909</td>\n",
       "      <td>3</td>\n",
       "      <td>8</td>\n",
       "      <td>2</td>\n",
       "      <td>7</td>\n",
       "      <td>1</td>\n",
       "      <td>0</td>\n",
       "    </tr>\n",
       "    <tr>\n",
       "      <th>4</th>\n",
       "      <td>0</td>\n",
       "      <td>27</td>\n",
       "      <td>6</td>\n",
       "      <td>4</td>\n",
       "      <td>3468</td>\n",
       "      <td>2</td>\n",
       "      <td>2</td>\n",
       "      <td>2</td>\n",
       "      <td>2</td>\n",
       "      <td>9</td>\n",
       "      <td>0</td>\n",
       "    </tr>\n",
       "  </tbody>\n",
       "</table>\n",
       "</div>"
      ],
      "text/plain": [
       "   OverTime_Yes  Age  TotalWorkingYears  JobLevel  MonthlyIncome  \\\n",
       "0             1   41                  8         2           5993   \n",
       "1             0   49                 10         2           5130   \n",
       "2             1   37                  7         4           2090   \n",
       "3             1   33                  8         4           2909   \n",
       "4             0   27                  6         4           3468   \n",
       "\n",
       "   DistanceFromHome  YearsAtCompany  WorkLifeBalance  YearsInCurrentRole  \\\n",
       "0                 1               6                0                   4   \n",
       "1                 8              10                2                   7   \n",
       "2                 2               0                2                   0   \n",
       "3                 3               8                2                   7   \n",
       "4                 2               2                2                   2   \n",
       "\n",
       "   NumCompaniesWorked  Attrition  \n",
       "0                   8          1  \n",
       "1                   1          0  \n",
       "2                   6          1  \n",
       "3                   1          0  \n",
       "4                   9          0  "
      ]
     },
     "execution_count": 5,
     "metadata": {},
     "output_type": "execute_result"
    }
   ],
   "source": [
    "df.head()"
   ]
  },
  {
   "cell_type": "code",
   "execution_count": 6,
   "metadata": {},
   "outputs": [
    {
     "name": "stdout",
     "output_type": "stream",
     "text": [
      "<class 'pandas.core.frame.DataFrame'>\n",
      "RangeIndex: 1470 entries, 0 to 1469\n",
      "Data columns (total 11 columns):\n",
      " #   Column              Non-Null Count  Dtype\n",
      "---  ------              --------------  -----\n",
      " 0   OverTime_Yes        1470 non-null   int64\n",
      " 1   Age                 1470 non-null   int64\n",
      " 2   TotalWorkingYears   1470 non-null   int64\n",
      " 3   JobLevel            1470 non-null   int64\n",
      " 4   MonthlyIncome       1470 non-null   int64\n",
      " 5   DistanceFromHome    1470 non-null   int64\n",
      " 6   YearsAtCompany      1470 non-null   int64\n",
      " 7   WorkLifeBalance     1470 non-null   int64\n",
      " 8   YearsInCurrentRole  1470 non-null   int64\n",
      " 9   NumCompaniesWorked  1470 non-null   int64\n",
      " 10  Attrition           1470 non-null   int64\n",
      "dtypes: int64(11)\n",
      "memory usage: 126.5 KB\n"
     ]
    }
   ],
   "source": [
    "df.info()"
   ]
  },
  {
   "cell_type": "markdown",
   "metadata": {},
   "source": [
    "## PARAMETERS"
   ]
  },
  {
   "cell_type": "code",
   "execution_count": 7,
   "metadata": {},
   "outputs": [],
   "source": [
    "# Random Forest Classifier\n",
    "\n",
    "max_depth = [10, 20, 40, 'None']\n",
    "min_samples_leaf = [2, 4, 8]\n",
    "min_samples_split = [2, 10, 100]\n",
    "n_estimators = [10, 100, 500]\n",
    "\n",
    "RFC_param = {'max_depth' : max_depth, \n",
    "             'min_samples_leaf': min_samples_leaf, \n",
    "             'min_samples_split' : min_samples_split, \n",
    "             'n_estimators' : n_estimators}"
   ]
  },
  {
   "cell_type": "code",
   "execution_count": 15,
   "metadata": {},
   "outputs": [],
   "source": [
    "# XGBoost Classifier\n",
    "\n",
    "max_depth = [3,5,10]\n",
    "gamma = [1,2]\n",
    "reg_alpha = [40,180]\n",
    "reg_lambda = [0,1]\n",
    "colsample_bytree = [0.5,1]\n",
    "min_child_weight = [0, 10, 1]\n",
    "n_estimators = [180, 200, 500]\n",
    "\n",
    "XGC_param = {'max_depth': max_depth,\n",
    "             'gamma': gamma,\n",
    "             'reg_alpha' : reg_alpha,\n",
    "             'reg_lambda' : reg_lambda,\n",
    "             'colsample_bytree' : colsample_bytree,\n",
    "             'min_child_weight' : min_child_weight,\n",
    "             'n_estimators': n_estimators}"
   ]
  },
  {
   "cell_type": "markdown",
   "metadata": {},
   "source": [
    "## SPLIT DATA"
   ]
  },
  {
   "cell_type": "code",
   "execution_count": 10,
   "metadata": {},
   "outputs": [],
   "source": [
    "# Split target - predictors\n",
    "\n",
    "X = df.drop(['Attrition'], axis = 1)\n",
    "y = df['Attrition']"
   ]
  },
  {
   "cell_type": "code",
   "execution_count": 11,
   "metadata": {},
   "outputs": [],
   "source": [
    "# Split 80% train data\n",
    "\n",
    "X_train, X_test, y_train, y_test = train_test_split(X, y, train_size = .8, random_state = 42)"
   ]
  },
  {
   "cell_type": "code",
   "execution_count": 12,
   "metadata": {},
   "outputs": [
    {
     "data": {
      "text/html": [
       "<div>\n",
       "<style scoped>\n",
       "    .dataframe tbody tr th:only-of-type {\n",
       "        vertical-align: middle;\n",
       "    }\n",
       "\n",
       "    .dataframe tbody tr th {\n",
       "        vertical-align: top;\n",
       "    }\n",
       "\n",
       "    .dataframe thead th {\n",
       "        text-align: right;\n",
       "    }\n",
       "</style>\n",
       "<table border=\"1\" class=\"dataframe\">\n",
       "  <thead>\n",
       "    <tr style=\"text-align: right;\">\n",
       "      <th></th>\n",
       "      <th>OverTime_Yes</th>\n",
       "      <th>Age</th>\n",
       "      <th>TotalWorkingYears</th>\n",
       "      <th>JobLevel</th>\n",
       "      <th>MonthlyIncome</th>\n",
       "      <th>DistanceFromHome</th>\n",
       "      <th>YearsAtCompany</th>\n",
       "      <th>WorkLifeBalance</th>\n",
       "      <th>YearsInCurrentRole</th>\n",
       "      <th>NumCompaniesWorked</th>\n",
       "    </tr>\n",
       "  </thead>\n",
       "  <tbody>\n",
       "    <tr>\n",
       "      <th>1097</th>\n",
       "      <td>0</td>\n",
       "      <td>24</td>\n",
       "      <td>2</td>\n",
       "      <td>4</td>\n",
       "      <td>2296</td>\n",
       "      <td>21</td>\n",
       "      <td>1</td>\n",
       "      <td>2</td>\n",
       "      <td>1</td>\n",
       "      <td>0</td>\n",
       "    </tr>\n",
       "    <tr>\n",
       "      <th>727</th>\n",
       "      <td>0</td>\n",
       "      <td>18</td>\n",
       "      <td>0</td>\n",
       "      <td>4</td>\n",
       "      <td>1051</td>\n",
       "      <td>5</td>\n",
       "      <td>0</td>\n",
       "      <td>2</td>\n",
       "      <td>0</td>\n",
       "      <td>1</td>\n",
       "    </tr>\n",
       "    <tr>\n",
       "      <th>254</th>\n",
       "      <td>0</td>\n",
       "      <td>29</td>\n",
       "      <td>10</td>\n",
       "      <td>2</td>\n",
       "      <td>6931</td>\n",
       "      <td>20</td>\n",
       "      <td>3</td>\n",
       "      <td>2</td>\n",
       "      <td>2</td>\n",
       "      <td>2</td>\n",
       "    </tr>\n",
       "    <tr>\n",
       "      <th>1175</th>\n",
       "      <td>0</td>\n",
       "      <td>39</td>\n",
       "      <td>7</td>\n",
       "      <td>2</td>\n",
       "      <td>5295</td>\n",
       "      <td>12</td>\n",
       "      <td>5</td>\n",
       "      <td>2</td>\n",
       "      <td>4</td>\n",
       "      <td>4</td>\n",
       "    </tr>\n",
       "    <tr>\n",
       "      <th>1341</th>\n",
       "      <td>0</td>\n",
       "      <td>31</td>\n",
       "      <td>10</td>\n",
       "      <td>2</td>\n",
       "      <td>4197</td>\n",
       "      <td>20</td>\n",
       "      <td>10</td>\n",
       "      <td>2</td>\n",
       "      <td>8</td>\n",
       "      <td>1</td>\n",
       "    </tr>\n",
       "  </tbody>\n",
       "</table>\n",
       "</div>"
      ],
      "text/plain": [
       "      OverTime_Yes  Age  TotalWorkingYears  JobLevel  MonthlyIncome  \\\n",
       "1097             0   24                  2         4           2296   \n",
       "727              0   18                  0         4           1051   \n",
       "254              0   29                 10         2           6931   \n",
       "1175             0   39                  7         2           5295   \n",
       "1341             0   31                 10         2           4197   \n",
       "\n",
       "      DistanceFromHome  YearsAtCompany  WorkLifeBalance  YearsInCurrentRole  \\\n",
       "1097                21               1                2                   1   \n",
       "727                  5               0                2                   0   \n",
       "254                 20               3                2                   2   \n",
       "1175                12               5                2                   4   \n",
       "1341                20              10                2                   8   \n",
       "\n",
       "      NumCompaniesWorked  \n",
       "1097                   0  \n",
       "727                    1  \n",
       "254                    2  \n",
       "1175                   4  \n",
       "1341                   1  "
      ]
     },
     "execution_count": 12,
     "metadata": {},
     "output_type": "execute_result"
    }
   ],
   "source": [
    "X_train.head()"
   ]
  },
  {
   "cell_type": "code",
   "execution_count": 13,
   "metadata": {},
   "outputs": [
    {
     "data": {
      "text/html": [
       "<div>\n",
       "<style scoped>\n",
       "    .dataframe tbody tr th:only-of-type {\n",
       "        vertical-align: middle;\n",
       "    }\n",
       "\n",
       "    .dataframe tbody tr th {\n",
       "        vertical-align: top;\n",
       "    }\n",
       "\n",
       "    .dataframe thead th {\n",
       "        text-align: right;\n",
       "    }\n",
       "</style>\n",
       "<table border=\"1\" class=\"dataframe\">\n",
       "  <thead>\n",
       "    <tr style=\"text-align: right;\">\n",
       "      <th></th>\n",
       "      <th>OverTime_Yes</th>\n",
       "      <th>Age</th>\n",
       "      <th>TotalWorkingYears</th>\n",
       "      <th>JobLevel</th>\n",
       "      <th>MonthlyIncome</th>\n",
       "      <th>DistanceFromHome</th>\n",
       "      <th>YearsAtCompany</th>\n",
       "      <th>WorkLifeBalance</th>\n",
       "      <th>YearsInCurrentRole</th>\n",
       "      <th>NumCompaniesWorked</th>\n",
       "    </tr>\n",
       "  </thead>\n",
       "  <tbody>\n",
       "    <tr>\n",
       "      <th>1041</th>\n",
       "      <td>0</td>\n",
       "      <td>28</td>\n",
       "      <td>6</td>\n",
       "      <td>2</td>\n",
       "      <td>8463</td>\n",
       "      <td>5</td>\n",
       "      <td>5</td>\n",
       "      <td>2</td>\n",
       "      <td>4</td>\n",
       "      <td>0</td>\n",
       "    </tr>\n",
       "    <tr>\n",
       "      <th>184</th>\n",
       "      <td>0</td>\n",
       "      <td>53</td>\n",
       "      <td>5</td>\n",
       "      <td>2</td>\n",
       "      <td>4450</td>\n",
       "      <td>13</td>\n",
       "      <td>4</td>\n",
       "      <td>2</td>\n",
       "      <td>2</td>\n",
       "      <td>1</td>\n",
       "    </tr>\n",
       "    <tr>\n",
       "      <th>1222</th>\n",
       "      <td>0</td>\n",
       "      <td>24</td>\n",
       "      <td>1</td>\n",
       "      <td>4</td>\n",
       "      <td>1555</td>\n",
       "      <td>22</td>\n",
       "      <td>1</td>\n",
       "      <td>2</td>\n",
       "      <td>0</td>\n",
       "      <td>1</td>\n",
       "    </tr>\n",
       "    <tr>\n",
       "      <th>67</th>\n",
       "      <td>0</td>\n",
       "      <td>45</td>\n",
       "      <td>25</td>\n",
       "      <td>0</td>\n",
       "      <td>9724</td>\n",
       "      <td>7</td>\n",
       "      <td>1</td>\n",
       "      <td>2</td>\n",
       "      <td>0</td>\n",
       "      <td>2</td>\n",
       "    </tr>\n",
       "    <tr>\n",
       "      <th>220</th>\n",
       "      <td>0</td>\n",
       "      <td>36</td>\n",
       "      <td>16</td>\n",
       "      <td>2</td>\n",
       "      <td>5914</td>\n",
       "      <td>5</td>\n",
       "      <td>13</td>\n",
       "      <td>1</td>\n",
       "      <td>11</td>\n",
       "      <td>8</td>\n",
       "    </tr>\n",
       "  </tbody>\n",
       "</table>\n",
       "</div>"
      ],
      "text/plain": [
       "      OverTime_Yes  Age  TotalWorkingYears  JobLevel  MonthlyIncome  \\\n",
       "1041             0   28                  6         2           8463   \n",
       "184              0   53                  5         2           4450   \n",
       "1222             0   24                  1         4           1555   \n",
       "67               0   45                 25         0           9724   \n",
       "220              0   36                 16         2           5914   \n",
       "\n",
       "      DistanceFromHome  YearsAtCompany  WorkLifeBalance  YearsInCurrentRole  \\\n",
       "1041                 5               5                2                   4   \n",
       "184                 13               4                2                   2   \n",
       "1222                22               1                2                   0   \n",
       "67                   7               1                2                   0   \n",
       "220                  5              13                1                  11   \n",
       "\n",
       "      NumCompaniesWorked  \n",
       "1041                   0  \n",
       "184                    1  \n",
       "1222                   1  \n",
       "67                     2  \n",
       "220                    8  "
      ]
     },
     "execution_count": 13,
     "metadata": {},
     "output_type": "execute_result"
    }
   ],
   "source": [
    "X_test.head()"
   ]
  },
  {
   "cell_type": "markdown",
   "metadata": {},
   "source": [
    "## DEFAULT PARMETER MODEL PREPARATION"
   ]
  },
  {
   "cell_type": "code",
   "execution_count": 14,
   "metadata": {},
   "outputs": [],
   "source": [
    "# Random Forest Classifier\n",
    "\n",
    "RFC = RandomForestClassifier().fit(X_train, y_train)\n",
    "\n",
    "# XGBoost Classifier\n",
    "\n",
    "XGC = XGBClassifier().fit(X_train, y_train)"
   ]
  },
  {
   "cell_type": "markdown",
   "metadata": {},
   "source": [
    "## HYPERPARAMETER TUNING"
   ]
  },
  {
   "cell_type": "code",
   "execution_count": 16,
   "metadata": {},
   "outputs": [],
   "source": [
    "\n",
    "# Random Forest Classifier\n",
    "\n",
    "def CVRFC (est, xtr, ytr):\n",
    "    result = RandomizedSearchCV(estimator = est, \n",
    "                                param_distributions = RFC_param, \n",
    "                                cv=5, scoring = 'accuracy').fit(xtr, ytr)\n",
    "    \n",
    "    return result\n",
    "\n",
    "# XGBoost Classifier\n",
    "\n",
    "def CVXGC (est, xtr, ytr):\n",
    "    result = RandomizedSearchCV(estimator = est, \n",
    "                                param_distributions = XGC_param, \n",
    "                                cv=5, scoring = 'accuracy').fit(xtr, ytr)\n",
    "    \n",
    "    return result"
   ]
  },
  {
   "cell_type": "code",
   "execution_count": 17,
   "metadata": {},
   "outputs": [
    {
     "name": "stdout",
     "output_type": "stream",
     "text": [
      "Hyper Model 1 {'n_estimators': 500, 'min_samples_split': 2, 'min_samples_leaf': 8, 'max_depth': 20}\n",
      "Hyper Model 2 {'n_estimators': 100, 'min_samples_split': 10, 'min_samples_leaf': 4, 'max_depth': 10}\n",
      "Hyper Model 3 {'n_estimators': 500, 'min_samples_split': 10, 'min_samples_leaf': 8, 'max_depth': 20}\n"
     ]
    }
   ],
   "source": [
    "# Random Forest Classifier\n",
    "\n",
    "for i in range(1,4):\n",
    "    cv_rfc = CVRFC(RFC, X_train, y_train)\n",
    "    print('Hyper Model', i, cv_rfc.best_params_)"
   ]
  },
  {
   "cell_type": "code",
   "execution_count": 18,
   "metadata": {},
   "outputs": [
    {
     "name": "stdout",
     "output_type": "stream",
     "text": [
      "Hyper Model 1 {'reg_lambda': 1, 'reg_alpha': 180, 'n_estimators': 200, 'min_child_weight': 0, 'max_depth': 3, 'gamma': 2, 'colsample_bytree': 0.5}\n",
      "Hyper Model 2 {'reg_lambda': 1, 'reg_alpha': 40, 'n_estimators': 180, 'min_child_weight': 10, 'max_depth': 3, 'gamma': 1, 'colsample_bytree': 0.5}\n",
      "Hyper Model 3 {'reg_lambda': 1, 'reg_alpha': 40, 'n_estimators': 500, 'min_child_weight': 0, 'max_depth': 3, 'gamma': 1, 'colsample_bytree': 1}\n"
     ]
    }
   ],
   "source": [
    "# XGBoost Classifier\n",
    "\n",
    "for i in range(1,4):\n",
    "    cv_xgc = CVXGC(XGC, X_train, y_train)\n",
    "    print('Hyper Model', i, cv_xgc.best_params_)"
   ]
  },
  {
   "cell_type": "markdown",
   "metadata": {},
   "source": [
    "## APPLY TUNED PARAMETER"
   ]
  },
  {
   "cell_type": "code",
   "execution_count": 19,
   "metadata": {},
   "outputs": [],
   "source": [
    "# Random Forest Classifier\n",
    "\n",
    "hyper_RFC1 = RandomForestClassifier(n_estimators = 500, min_samples_split = 2, min_samples_leaf = 8, max_depth = 20).fit(X_train, y_train)\n",
    "hyper_RFC2 = RandomForestClassifier(n_estimators = 100, min_samples_split = 10, min_samples_leaf = 4, max_depth = 10).fit(X_train, y_train)\n",
    "hyper_RFC3 = RandomForestClassifier(n_estimators = 500, min_samples_split = 10, min_samples_leaf = 8, max_depth = 20).fit(X_train, y_train)"
   ]
  },
  {
   "cell_type": "code",
   "execution_count": 22,
   "metadata": {},
   "outputs": [],
   "source": [
    "# XGBoost Classifier\n",
    "\n",
    "hyper_XGC1 = XGBClassifier(reg_lambda=1, reg_alpha = 180, n_estimators = 200, min_child_weight = 0, max_depth = 3, gamma = 2, colsample_bytree = 0.5, seed = 0).fit(X_train, y_train)\n",
    "hyper_XGC2 = XGBClassifier(reg_lambda=1, reg_alpha = 40, n_estimators = 180, min_child_weight = 10, max_depth = 3, gamma = 1, colsample_bytree = 0.5, seed = 0).fit(X_train, y_train)\n",
    "hyper_XGC3 = XGBClassifier(reg_lambda=1, reg_alpha = 40, n_estimators = 500, min_child_weight = 0, max_depth = 3, gamma = 1, colsample_bytree = 1, seed = 0).fit(X_train, y_train)"
   ]
  },
  {
   "cell_type": "code",
   "execution_count": 23,
   "metadata": {},
   "outputs": [],
   "source": [
    "# y_predict for Random Forest Classifier\n",
    "\n",
    "yp_RFC = RFC.predict(X_test)\n",
    "yp_hyper_RFC1 = hyper_RFC1.predict(X_test)\n",
    "yp_hyper_RFC2 = hyper_RFC2.predict(X_test)\n",
    "yp_hyper_RFC3 = hyper_RFC3.predict(X_test)\n",
    "\n",
    "# y_predict for XGBoost Classifier\n",
    "\n",
    "yp_XGC = XGC.predict(X_test)\n",
    "yp_hyper_XGC1 = hyper_XGC1.predict(X_test)\n",
    "yp_hyper_XGC2 = hyper_XGC2.predict(X_test)\n",
    "yp_hyper_XGC3 = hyper_XGC3.predict(X_test)"
   ]
  },
  {
   "cell_type": "markdown",
   "metadata": {},
   "source": [
    "## MEASURE THE DEFAULT VS THE HYPERPARAMETER TUNED¶"
   ]
  },
  {
   "cell_type": "code",
   "execution_count": 24,
   "metadata": {},
   "outputs": [],
   "source": [
    "# Measure the default vs hyperparameter tuned model score for Random Forest Classifier Model\n",
    "\n",
    "RFC_acc = RFC.score(X_test, y_test)\n",
    "hyper_RFC1_acc = hyper_RFC1.score(X_test, y_test)\n",
    "hyper_RFC2_acc = hyper_RFC2.score(X_test, y_test)\n",
    "hyper_RFC3_acc = hyper_RFC3.score(X_test, y_test)"
   ]
  },
  {
   "cell_type": "code",
   "execution_count": 25,
   "metadata": {},
   "outputs": [],
   "source": [
    "model_RFC_score = pd.DataFrame({'Random Forest Classifier' : ['Default', 'Hyper Test 1', 'Hyper Test 2', 'Hyper Test 3'], \n",
    "                                'Accuracy Score': [RFC_acc, hyper_RFC1_acc, hyper_RFC2_acc, hyper_RFC3_acc]})"
   ]
  },
  {
   "cell_type": "code",
   "execution_count": 26,
   "metadata": {},
   "outputs": [
    {
     "data": {
      "text/html": [
       "<div>\n",
       "<style scoped>\n",
       "    .dataframe tbody tr th:only-of-type {\n",
       "        vertical-align: middle;\n",
       "    }\n",
       "\n",
       "    .dataframe tbody tr th {\n",
       "        vertical-align: top;\n",
       "    }\n",
       "\n",
       "    .dataframe thead th {\n",
       "        text-align: right;\n",
       "    }\n",
       "</style>\n",
       "<table border=\"1\" class=\"dataframe\">\n",
       "  <thead>\n",
       "    <tr style=\"text-align: right;\">\n",
       "      <th></th>\n",
       "      <th>Random Forest Classifier</th>\n",
       "      <th>Accuracy Score</th>\n",
       "    </tr>\n",
       "  </thead>\n",
       "  <tbody>\n",
       "    <tr>\n",
       "      <th>0</th>\n",
       "      <td>Default</td>\n",
       "      <td>0.857143</td>\n",
       "    </tr>\n",
       "    <tr>\n",
       "      <th>1</th>\n",
       "      <td>Hyper Test 1</td>\n",
       "      <td>0.857143</td>\n",
       "    </tr>\n",
       "    <tr>\n",
       "      <th>2</th>\n",
       "      <td>Hyper Test 2</td>\n",
       "      <td>0.857143</td>\n",
       "    </tr>\n",
       "    <tr>\n",
       "      <th>3</th>\n",
       "      <td>Hyper Test 3</td>\n",
       "      <td>0.857143</td>\n",
       "    </tr>\n",
       "  </tbody>\n",
       "</table>\n",
       "</div>"
      ],
      "text/plain": [
       "  Random Forest Classifier  Accuracy Score\n",
       "0                  Default        0.857143\n",
       "1             Hyper Test 1        0.857143\n",
       "2             Hyper Test 2        0.857143\n",
       "3             Hyper Test 3        0.857143"
      ]
     },
     "execution_count": 26,
     "metadata": {},
     "output_type": "execute_result"
    }
   ],
   "source": [
    "model_RFC_score"
   ]
  },
  {
   "cell_type": "markdown",
   "metadata": {},
   "source": [
    "> Apparently all the models on Random Forest Classifier score are the same. Therefore taking any test is all good."
   ]
  },
  {
   "cell_type": "code",
   "execution_count": 27,
   "metadata": {},
   "outputs": [],
   "source": [
    "# Measure the default vs hyperparameter tuned model score for XGBoost Classifier Model\n",
    "\n",
    "XGC_acc = XGC.score(X_test, y_test)\n",
    "hyper_XGC1_acc = hyper_XGC1.score(X_test, y_test)\n",
    "hyper_XGC2_acc = hyper_XGC2.score(X_test, y_test)\n",
    "hyper_XGC3_acc = hyper_XGC3.score(X_test, y_test)"
   ]
  },
  {
   "cell_type": "code",
   "execution_count": 28,
   "metadata": {},
   "outputs": [],
   "source": [
    "model_XGC_score = pd.DataFrame({'XGBoost Classifier' : ['Default', 'Hyper Test 1', 'Hyper Test 2', 'Hyper Test 3'], \n",
    "                                'Accuracy Score': [XGC_acc, hyper_XGC1_acc, hyper_XGC2_acc, hyper_XGC3_acc]})"
   ]
  },
  {
   "cell_type": "code",
   "execution_count": 29,
   "metadata": {},
   "outputs": [
    {
     "data": {
      "text/html": [
       "<div>\n",
       "<style scoped>\n",
       "    .dataframe tbody tr th:only-of-type {\n",
       "        vertical-align: middle;\n",
       "    }\n",
       "\n",
       "    .dataframe tbody tr th {\n",
       "        vertical-align: top;\n",
       "    }\n",
       "\n",
       "    .dataframe thead th {\n",
       "        text-align: right;\n",
       "    }\n",
       "</style>\n",
       "<table border=\"1\" class=\"dataframe\">\n",
       "  <thead>\n",
       "    <tr style=\"text-align: right;\">\n",
       "      <th></th>\n",
       "      <th>XGBoost Classifier</th>\n",
       "      <th>Accuracy Score</th>\n",
       "    </tr>\n",
       "  </thead>\n",
       "  <tbody>\n",
       "    <tr>\n",
       "      <th>0</th>\n",
       "      <td>Default</td>\n",
       "      <td>0.823129</td>\n",
       "    </tr>\n",
       "    <tr>\n",
       "      <th>1</th>\n",
       "      <td>Hyper Test 1</td>\n",
       "      <td>0.867347</td>\n",
       "    </tr>\n",
       "    <tr>\n",
       "      <th>2</th>\n",
       "      <td>Hyper Test 2</td>\n",
       "      <td>0.867347</td>\n",
       "    </tr>\n",
       "    <tr>\n",
       "      <th>3</th>\n",
       "      <td>Hyper Test 3</td>\n",
       "      <td>0.867347</td>\n",
       "    </tr>\n",
       "  </tbody>\n",
       "</table>\n",
       "</div>"
      ],
      "text/plain": [
       "  XGBoost Classifier  Accuracy Score\n",
       "0            Default        0.823129\n",
       "1       Hyper Test 1        0.867347\n",
       "2       Hyper Test 2        0.867347\n",
       "3       Hyper Test 3        0.867347"
      ]
     },
     "execution_count": 29,
     "metadata": {},
     "output_type": "execute_result"
    }
   ],
   "source": [
    "model_XGC_score"
   ]
  },
  {
   "cell_type": "markdown",
   "metadata": {},
   "source": [
    "> While in this XGBoost Classifier model, the hyperparameter tuned models turns out to be better than the default model. Therefore we'll take any hyperparameter tuned model."
   ]
  }
 ],
 "metadata": {
  "kernelspec": {
   "display_name": "Python 3",
   "language": "python",
   "name": "python3"
  },
  "language_info": {
   "codemirror_mode": {
    "name": "ipython",
    "version": 3
   },
   "file_extension": ".py",
   "mimetype": "text/x-python",
   "name": "python",
   "nbconvert_exporter": "python",
   "pygments_lexer": "ipython3",
   "version": "3.7.4"
  }
 },
 "nbformat": 4,
 "nbformat_minor": 4
}
